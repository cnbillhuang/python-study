{
 "cells": [
  {
   "cell_type": "code",
   "execution_count": 3,
   "metadata": {},
   "outputs": [
    {
     "data": {
      "text/plain": [
       "['Zoo', 'Credit', 'bob', 'about']"
      ]
     },
     "execution_count": 3,
     "metadata": {},
     "output_type": "execute_result"
    }
   ],
   "source": [
    "sorted(['bob','about','Zoo','Credit'],key = str.lower,reverse = True)"
   ]
  },
  {
   "cell_type": "code",
   "execution_count": 6,
   "metadata": {},
   "outputs": [
    {
     "name": "stdout",
     "output_type": "stream",
     "text": [
      "[('Adam', 92), ('Bart', 66), ('Bob', 75), ('Lisa', 88)]\n",
      "[('Adam', 92), ('Lisa', 88), ('Bob', 75), ('Bart', 66)]\n"
     ]
    }
   ],
   "source": [
    "#按姓名排\n",
    "L = [('Bob', 75), ('Adam', 92), ('Bart', 66), ('Lisa', 88)]\n",
    "def by_name(t):\n",
    "    return t[0].lower()\n",
    "L2 = sorted(L, key = by_name)\n",
    "print(L2)\n",
    "\n",
    "def by_score(t):       #按成绩从高到低排\n",
    "    return t[1]\n",
    "L2 = sorted(L, key = by_score, reverse = True)\n",
    "print(L2)"
   ]
  },
  {
   "cell_type": "code",
   "execution_count": 9,
   "metadata": {},
   "outputs": [
    {
     "data": {
      "text/plain": [
       "25"
      ]
     },
     "execution_count": 9,
     "metadata": {},
     "output_type": "execute_result"
    }
   ],
   "source": [
    "def lazy_sum(*args):\n",
    "    def sum():\n",
    "        ax = 0\n",
    "        for n in args:\n",
    "            ax = ax + n\n",
    "        return ax\n",
    "    return sum            #返回函数\n",
    "f = lazy_sum(1,3,5,7,9)\n",
    "f()"
   ]
  },
  {
   "cell_type": "code",
   "execution_count": 15,
   "metadata": {},
   "outputs": [
    {
     "data": {
      "text/plain": [
       "9"
      ]
     },
     "execution_count": 15,
     "metadata": {},
     "output_type": "execute_result"
    }
   ],
   "source": [
    "def count():\n",
    "    fs = []\n",
    "    for i in range(1,4):\n",
    "        def f():\n",
    "            return i*i\n",
    "        fs.append(f)\n",
    "    return fs\n",
    "f1, f2, f3 = count()\n",
    "f1()\n",
    "f2()\n",
    "f3()"
   ]
  },
  {
   "cell_type": "code",
   "execution_count": 18,
   "metadata": {},
   "outputs": [
    {
     "data": {
      "text/plain": [
       "1"
      ]
     },
     "execution_count": 18,
     "metadata": {},
     "output_type": "execute_result"
    }
   ],
   "source": [
    "def count():\n",
    "    def f(j):\n",
    "        def g():\n",
    "            return j*j\n",
    "        return g\n",
    "    fs = []\n",
    "    for i in range(1, 4):\n",
    "        fs.append(f(i)) # f(i)立刻被执行，因此i的当前值被传入f()\n",
    "    return fs\n",
    "f1,f2,f3 = count()\n",
    "f1()"
   ]
  },
  {
   "cell_type": "code",
   "execution_count": null,
   "metadata": {},
   "outputs": [],
   "source": [
    "def createCounter():\n",
    "    def counter(j):\n",
    "        return j + 1\n",
    "    "
   ]
  }
 ],
 "metadata": {
  "kernelspec": {
   "display_name": "Python 3",
   "language": "python",
   "name": "python3"
  },
  "language_info": {
   "codemirror_mode": {
    "name": "ipython",
    "version": 3
   },
   "file_extension": ".py",
   "mimetype": "text/x-python",
   "name": "python",
   "nbconvert_exporter": "python",
   "pygments_lexer": "ipython3",
   "version": "3.7.6"
  }
 },
 "nbformat": 4,
 "nbformat_minor": 4
}
