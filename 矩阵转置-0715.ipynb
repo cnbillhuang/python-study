{
 "cells": [
  {
   "cell_type": "code",
   "execution_count": 1,
   "metadata": {},
   "outputs": [
    {
     "name": "stdout",
     "output_type": "stream",
     "text": [
      "2500\n"
     ]
    }
   ],
   "source": [
    "sum = 0\n",
    "n = 99\n",
    "while n > 0:\n",
    "    sum = sum + n\n",
    "    n = n - 2\n",
    "print(sum)"
   ]
  },
  {
   "cell_type": "code",
   "execution_count": 2,
   "metadata": {},
   "outputs": [
    {
     "name": "stdout",
     "output_type": "stream",
     "text": [
      "[[ 0  1  2  3  4]\n",
      " [ 5  6  7  8  9]\n",
      " [10 11 12 13 14]]\n"
     ]
    },
    {
     "data": {
      "text/plain": [
       "array([[ 0,  5, 10],\n",
       "       [ 1,  6, 11],\n",
       "       [ 2,  7, 12],\n",
       "       [ 3,  8, 13],\n",
       "       [ 4,  9, 14]])"
      ]
     },
     "execution_count": 2,
     "metadata": {},
     "output_type": "execute_result"
    }
   ],
   "source": [
    "from numpy import*  #导入numpy的库函数\n",
    "import numpy as np  #使用numpy的函数时，以np.开头\n",
    "arr=np.arange(15).reshape(3,5)\n",
    "print(arr)\n",
    "arr.T"
   ]
  },
  {
   "cell_type": "code",
   "execution_count": 3,
   "metadata": {},
   "outputs": [
    {
     "name": "stdout",
     "output_type": "stream",
     "text": [
      "Apple\n",
      "Python\n",
      "Lisa\n"
     ]
    }
   ],
   "source": [
    "L = [\n",
    "    ['Apple', 'Google', 'Microsoft'],\n",
    "    ['Java', 'Python', 'Ruby', 'PHP'],\n",
    "    ['Adam', 'Bart', 'Lisa']\n",
    "]\n",
    "print(L[0][0])  #打印Apple\n",
    "print(L[1][1])  #打印Python\n",
    "print(L[2][2])  #打印Lisa"
   ]
  },
  {
   "cell_type": "code",
   "execution_count": 4,
   "metadata": {},
   "outputs": [
    {
     "name": "stdout",
     "output_type": "stream",
     "text": [
      "your age is 20\n",
      "adult\n"
     ]
    }
   ],
   "source": [
    "age = int(input('your age is '))\n",
    "if age >= 18:\n",
    "    print('adult')\n",
    "elif age >=6:\n",
    "    print('teenager')\n",
    "else:\n",
    "    print('kid')"
   ]
  },
  {
   "cell_type": "code",
   "execution_count": 5,
   "metadata": {},
   "outputs": [
    {
     "name": "stdout",
     "output_type": "stream",
     "text": [
      "小明的BMI指数为:26.29\n",
      "过重\n"
     ]
    }
   ],
   "source": [
    "height = 1.75\n",
    "weight = 80.5\n",
    "bmi = weight/height/height  # BMI为体重（kg)除以身高（m）的平方\n",
    "print('小明的BMI指数为:%.2f'%bmi)\n",
    "if bmi < 18.5:\n",
    "    print('过轻')\n",
    "elif 18.5 <= bmi <= 25:\n",
    "    print('正常')\n",
    "elif 25 <= bmi <= 28:\n",
    "    print('过重')\n",
    "elif 28 <= bmi <= 32:\n",
    "    print('肥胖')\n",
    "else:\n",
    "    print('严重肥胖')"
   ]
  },
  {
   "cell_type": "code",
   "execution_count": 6,
   "metadata": {},
   "outputs": [
    {
     "name": "stdout",
     "output_type": "stream",
     "text": [
      "55\n"
     ]
    }
   ],
   "source": [
    "#求1-10总和\n",
    "sum = 0\n",
    "for x in [1,2,3,4,5,6,7,8,9,10]:\n",
    "    sum = sum + x\n",
    "print(sum)"
   ]
  },
  {
   "cell_type": "code",
   "execution_count": 7,
   "metadata": {},
   "outputs": [
    {
     "name": "stdout",
     "output_type": "stream",
     "text": [
      "5050\n"
     ]
    }
   ],
   "source": [
    "#求1-100之和\n",
    "sum = 0\n",
    "for x in range(101):\n",
    "    sum = sum + x\n",
    "print(sum)"
   ]
  },
  {
   "cell_type": "code",
   "execution_count": 8,
   "metadata": {},
   "outputs": [
    {
     "name": "stdout",
     "output_type": "stream",
     "text": [
      "2500\n"
     ]
    }
   ],
   "source": [
    "#求100以内奇数之和\n",
    "sum = 0\n",
    "n = 1\n",
    "while n < 100:\n",
    "    sum = sum + n\n",
    "    n = n + 2\n",
    "print(sum)"
   ]
  },
  {
   "cell_type": "code",
   "execution_count": 9,
   "metadata": {},
   "outputs": [
    {
     "name": "stdout",
     "output_type": "stream",
     "text": [
      "2500\n"
     ]
    }
   ],
   "source": [
    "sum = 0\n",
    "n = 99\n",
    "while n > 0:\n",
    "    sum = sum + n\n",
    "    n = n - 2\n",
    "print(sum)"
   ]
  },
  {
   "cell_type": "code",
   "execution_count": 15,
   "metadata": {},
   "outputs": [
    {
     "name": "stdout",
     "output_type": "stream",
     "text": [
      "Hello,Bart!\n",
      "Hello,Lisa!\n",
      "Hello,Adam!\n"
     ]
    }
   ],
   "source": [
    "L = ['Bart', 'Lisa', 'Adam']  #打印名字\n",
    "for name in L:\n",
    "    print('Hello,%s!'%name)"
   ]
  },
  {
   "cell_type": "code",
   "execution_count": 16,
   "metadata": {},
   "outputs": [
    {
     "name": "stdout",
     "output_type": "stream",
     "text": [
      "1\n",
      "2\n",
      "3\n",
      "4\n",
      "5\n",
      "6\n",
      "7\n",
      "8\n",
      "9\n",
      "10\n",
      "END\n"
     ]
    }
   ],
   "source": [
    "n = 1\n",
    "while n <= 100:\n",
    "    if n >10:\n",
    "        break   #结束当前循环\n",
    "    print(n)\n",
    "    n = n + 1\n",
    "print('END')"
   ]
  },
  {
   "cell_type": "code",
   "execution_count": 17,
   "metadata": {},
   "outputs": [
    {
     "name": "stdout",
     "output_type": "stream",
     "text": [
      "1\n",
      "3\n",
      "5\n",
      "7\n",
      "9\n"
     ]
    }
   ],
   "source": [
    "n = 0\n",
    "while n < 10:\n",
    "    n = n + 1\n",
    "    if n % 2 == 0:\n",
    "        continue   #跳过直接继续下一轮循环\n",
    "    print(n)"
   ]
  },
  {
   "cell_type": "code",
   "execution_count": 10,
   "metadata": {},
   "outputs": [
    {
     "data": {
      "text/plain": [
       "-1"
      ]
     },
     "execution_count": 10,
     "metadata": {},
     "output_type": "execute_result"
    }
   ],
   "source": [
    "d = {'Michael': 95,'Bob': 75,'Tracy': 85}\n",
    "d['Michael']\n",
    "\n",
    "d['Adam']= 67\n",
    "d['Adam']\n",
    "d['Michael']\n",
    "'Bob' in d\n",
    "'Thomas' in d\n",
    "d.get('Thomas',-1)"
   ]
  },
  {
   "cell_type": "code",
   "execution_count": 12,
   "metadata": {},
   "outputs": [
    {
     "data": {
      "text/plain": [
       "{1, 2, 3}"
      ]
     },
     "execution_count": 12,
     "metadata": {},
     "output_type": "execute_result"
    }
   ],
   "source": [
    "s = set([1,2,3])\n",
    "s"
   ]
  },
  {
   "cell_type": "code",
   "execution_count": 14,
   "metadata": {},
   "outputs": [
    {
     "data": {
      "text/plain": [
       "['a', 'b', 'c']"
      ]
     },
     "execution_count": 14,
     "metadata": {},
     "output_type": "execute_result"
    }
   ],
   "source": [
    "a = ['c','b','a']\n",
    "a.sort()\n",
    "a"
   ]
  },
  {
   "cell_type": "code",
   "execution_count": 17,
   "metadata": {},
   "outputs": [
    {
     "name": "stdout",
     "output_type": "stream",
     "text": [
      "Help on built-in function abs in module builtins:\n",
      "\n",
      "abs(x, /)\n",
      "    Return the absolute value of the argument.\n",
      "\n",
      "Help on built-in function max in module builtins:\n",
      "\n",
      "max(...)\n",
      "    max(iterable, *[, default=obj, key=func]) -> value\n",
      "    max(arg1, arg2, *args, *[, key=func]) -> value\n",
      "    \n",
      "    With a single iterable argument, return its biggest item. The\n",
      "    default keyword-only argument specifies an object to return if\n",
      "    the provided iterable is empty.\n",
      "    With two or more arguments, return the largest argument.\n",
      "\n"
     ]
    }
   ],
   "source": [
    "\n",
    "help(abs)\n",
    "abs(-100)\n",
    "help(max)"
   ]
  },
  {
   "cell_type": "code",
   "execution_count": 23,
   "metadata": {},
   "outputs": [
    {
     "name": "stdout",
     "output_type": "stream",
     "text": [
      "0xff\n",
      "0x3e8\n"
     ]
    }
   ],
   "source": [
    "#整数转换成十六进制数\n",
    "\n",
    "n1 = 255\n",
    "n2 = 1000\n",
    "print(str(hex(n1)))\n",
    "print(str(hex(n2)))"
   ]
  },
  {
   "cell_type": "code",
   "execution_count": 24,
   "metadata": {},
   "outputs": [
    {
     "name": "stdout",
     "output_type": "stream",
     "text": [
      "255的十六进制表示为0xff\n",
      "1000的十六进制表示为0x3e8\n"
     ]
    }
   ],
   "source": [
    "n1 = 255\n",
    "n2 = 1000\n",
    "n = [n1, n2]\n",
    "for i in n:\n",
    "    print('%d的十六进制表示为%s' %(i, hex(i)))"
   ]
  },
  {
   "cell_type": "code",
   "execution_count": null,
   "metadata": {},
   "outputs": [],
   "source": []
  }
 ],
 "metadata": {
  "kernelspec": {
   "display_name": "Python 3",
   "language": "python",
   "name": "python3"
  },
  "language_info": {
   "codemirror_mode": {
    "name": "ipython",
    "version": 3
   },
   "file_extension": ".py",
   "mimetype": "text/x-python",
   "name": "python",
   "nbconvert_exporter": "python",
   "pygments_lexer": "ipython3",
   "version": "3.7.6"
  }
 },
 "nbformat": 4,
 "nbformat_minor": 4
}
