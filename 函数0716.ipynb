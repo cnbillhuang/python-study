{
 "cells": [
  {
   "cell_type": "code",
   "execution_count": 2,
   "metadata": {},
   "outputs": [
    {
     "name": "stdout",
     "output_type": "stream",
     "text": [
      "5\n"
     ]
    }
   ],
   "source": [
    "def my_abs(x):\n",
    "    if not isinstance(x,(int,float)):\n",
    "        raise TypeError('bad operand type')\n",
    "    if x > 0:\n",
    "        return x\n",
    "    else:\n",
    "        return -x\n",
    "\n",
    "print(my_abs(-5))"
   ]
  },
  {
   "cell_type": "code",
   "execution_count": 3,
   "metadata": {},
   "outputs": [
    {
     "name": "stdout",
     "output_type": "stream",
     "text": [
      "151.96152422706632 130.0\n",
      "(151.96152422706632, 130.0)\n"
     ]
    }
   ],
   "source": [
    "import math\n",
    "\n",
    "def move(x,y,step,angle=0):\n",
    "    nx = x + step * math.cos(angle)\n",
    "    ny = y + step * math.sin(angle) \n",
    "    return nx,ny\n",
    "x,y = move(100,100,60,math.pi/6)\n",
    "print(x,y)\n",
    "\n",
    "r = move(100,100,60,math.pi/6)\n",
    "print(r)"
   ]
  },
  {
   "cell_type": "code",
   "execution_count": 15,
   "metadata": {},
   "outputs": [
    {
     "name": "stdout",
     "output_type": "stream",
     "text": [
      "无解\n"
     ]
    }
   ],
   "source": [
    "#求解二元一次方程\n",
    "\n",
    "import math\n",
    "\n",
    "def quadratic(a,b,c):\n",
    "   \n",
    "    delta = b * b - 4 * a * c\n",
    "    if a == 0:\n",
    "        return -c/b\n",
    "    else: \n",
    "        if delta < 0:\n",
    "            print('无解')\n",
    "          \n",
    "        else:\n",
    "            x1 = (-b + math.sqrt(b * b - 4 * a * c))/(2 * a)\n",
    "            x2 = (-b - math.sqrt(b * b - 4 * a * c))/(2 * a)\n",
    "            return x1,x2\n",
    "\n",
    "quadratic(1,3,2)\n",
    "quadratic(2,3,1)\n",
    "quadratic(1,1,1)"
   ]
  },
  {
   "cell_type": "code",
   "execution_count": 17,
   "metadata": {},
   "outputs": [
    {
     "data": {
      "text/plain": [
       "1024"
      ]
     },
     "execution_count": 17,
     "metadata": {},
     "output_type": "execute_result"
    }
   ],
   "source": [
    "def power(x,n):\n",
    "    s = 1\n",
    "    while n > 0:\n",
    "        n = n - 1\n",
    "        s = s * x\n",
    "    return s \n",
    "power(2,10)"
   ]
  },
  {
   "cell_type": "code",
   "execution_count": null,
   "metadata": {},
   "outputs": [],
   "source": []
  }
 ],
 "metadata": {
  "kernelspec": {
   "display_name": "Python 3",
   "language": "python",
   "name": "python3"
  },
  "language_info": {
   "codemirror_mode": {
    "name": "ipython",
    "version": 3
   },
   "file_extension": ".py",
   "mimetype": "text/x-python",
   "name": "python",
   "nbconvert_exporter": "python",
   "pygments_lexer": "ipython3",
   "version": "3.7.6"
  }
 },
 "nbformat": 4,
 "nbformat_minor": 4
}
